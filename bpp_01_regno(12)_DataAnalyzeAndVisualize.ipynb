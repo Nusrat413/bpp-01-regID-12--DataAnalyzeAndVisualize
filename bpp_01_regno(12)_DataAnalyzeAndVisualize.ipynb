{
  "nbformat": 4,
  "nbformat_minor": 0,
  "metadata": {
    "colab": {
      "provenance": []
    },
    "kernelspec": {
      "name": "python3",
      "display_name": "Python 3"
    },
    "language_info": {
      "name": "python"
    }
  },
  "cells": [
    {
      "cell_type": "code",
      "source": [
        "import pandas as pd\n",
        "import matplotlib.pyplot as plt\n",
        "\n",
        "!wget https://raw.githubusercontent.com/Abdullahfoysal/pp11-Project-AnalyzeAndVisualize/refs/heads/main/student_data.csv"
      ],
      "metadata": {
        "id": "ZaSz6EZRNLsZ",
        "colab": {
          "base_uri": "https://localhost:8080/"
        },
        "outputId": "8ebc0d35-acdb-4678-9721-5307e873661c"
      },
      "execution_count": 1,
      "outputs": [
        {
          "output_type": "stream",
          "name": "stdout",
          "text": [
            "--2024-12-21 03:12:39--  https://raw.githubusercontent.com/Abdullahfoysal/pp11-Project-AnalyzeAndVisualize/refs/heads/main/student_data.csv\n",
            "Resolving raw.githubusercontent.com (raw.githubusercontent.com)... 185.199.108.133, 185.199.109.133, 185.199.110.133, ...\n",
            "Connecting to raw.githubusercontent.com (raw.githubusercontent.com)|185.199.108.133|:443... connected.\n",
            "HTTP request sent, awaiting response... 200 OK\n",
            "Length: 133023 (130K) [text/plain]\n",
            "Saving to: ‘student_data.csv’\n",
            "\n",
            "\rstudent_data.csv      0%[                    ]       0  --.-KB/s               \rstudent_data.csv    100%[===================>] 129.91K  --.-KB/s    in 0.03s   \n",
            "\n",
            "2024-12-21 03:12:39 (4.87 MB/s) - ‘student_data.csv’ saved [133023/133023]\n",
            "\n"
          ]
        }
      ]
    },
    {
      "cell_type": "code",
      "source": [
        "#count the number of students from each home district\n",
        "\n",
        "import pandas as pd\n",
        "\n",
        "#Assuming the data set is stored in the student csv file\n",
        "df = pd.read_csv('student_data.csv')\n",
        "\n",
        "#count the number of students from each home district\n",
        "district_counts = df['home_district'].value_counts()\n",
        "\n",
        "#Display the result\n",
        "print(district_counts)"
      ],
      "metadata": {
        "colab": {
          "base_uri": "https://localhost:8080/"
        },
        "id": "F2GLU672LAfJ",
        "outputId": "a46381dd-9c08-4b8c-f8f8-7735701373e3"
      },
      "execution_count": 2,
      "outputs": [
        {
          "output_type": "stream",
          "name": "stdout",
          "text": [
            "home_district\n",
            "Houston        219\n",
            "Los Angeles    212\n",
            "Miami          198\n",
            "New York       186\n",
            "Chicago        185\n",
            "Name: count, dtype: int64\n"
          ]
        }
      ]
    }
  ]
}